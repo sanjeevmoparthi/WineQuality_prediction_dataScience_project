{
 "cells": [
  {
   "cell_type": "code",
   "execution_count": 1,
   "id": "ed016655",
   "metadata": {},
   "outputs": [],
   "source": [
    "import os \n",
    "os.environ[\"MLFLOW_TRACKING_URI\"] = \"https://dagshub.com/Sanjeev_Moparthi/WineQuality_prediction_dataScience_project.mlflow\"\n",
    "os.environ[\"MLFLOW_TRACKING_USERNAME\"]=\"Sanjeev_Moparthi\"\n",
    "os.environ[\"MLFLOW_TRACKING_PASSWORD\"] = \"333be33f47e4aaaa15c23950a1655b9c3000fbbe\""
   ]
  },
  {
   "cell_type": "code",
   "execution_count": 2,
   "id": "d09a542e",
   "metadata": {},
   "outputs": [
    {
     "data": {
      "text/plain": [
       "'c:\\\\WineQuality_prediction_dataScience_project\\\\research'"
      ]
     },
     "execution_count": 2,
     "metadata": {},
     "output_type": "execute_result"
    }
   ],
   "source": [
    "import os\n",
    "%pwd"
   ]
  },
  {
   "cell_type": "code",
   "execution_count": 3,
   "id": "8c76f4ec",
   "metadata": {},
   "outputs": [],
   "source": [
    "os.chdir(\"../\")"
   ]
  },
  {
   "cell_type": "code",
   "execution_count": 4,
   "id": "5ab55ba0",
   "metadata": {},
   "outputs": [
    {
     "data": {
      "text/plain": [
       "'c:\\\\WineQuality_prediction_dataScience_project'"
      ]
     },
     "execution_count": 4,
     "metadata": {},
     "output_type": "execute_result"
    }
   ],
   "source": [
    "%pwd"
   ]
  },
  {
   "cell_type": "code",
   "execution_count": 5,
   "id": "c7cfdea5",
   "metadata": {},
   "outputs": [],
   "source": [
    "from dataclasses import dataclass\n",
    "from pathlib import Path\n",
    "\n",
    "@dataclass\n",
    "class ModelEvaluationConfig:\n",
    "    root_dir: Path\n",
    "    test_data_path: Path\n",
    "    model_path: Path\n",
    "    all_params: Path\n",
    "    metric_file_name: Path\n",
    "    target_column: str\n",
    "    mlflow_uri: str"
   ]
  },
  {
   "cell_type": "code",
   "execution_count": 6,
   "id": "8bf8c8f5",
   "metadata": {},
   "outputs": [],
   "source": [
    "from src.datascience.constants import *\n",
    "from src.datascience.utils.common import read_yaml,create_directories,save_json\n",
    "\n"
   ]
  },
  {
   "cell_type": "code",
   "execution_count": 7,
   "id": "109b5fa9",
   "metadata": {},
   "outputs": [],
   "source": [
    "class ConfigurationManager:\n",
    "    def __init__(\n",
    "        self,\n",
    "        config_filepath = CONFIG_FILE_PATH,\n",
    "        params_filepath = PARAMS_FILE_PATH,\n",
    "        schema_filepath = SCHEMA_FILE_PATH):\n",
    "\n",
    "        self.config = read_yaml(config_filepath)\n",
    "        self.params = read_yaml(params_filepath)\n",
    "        self.schema = read_yaml(schema_filepath)\n",
    "\n",
    "        create_directories([self.config.artifacts_root])\n",
    "\n",
    "    def get_model_evaluation_config(self) -> ModelEvaluationConfig:\n",
    "        config = self.config.model_evaluation\n",
    "        params= self.params.ElasticNet\n",
    "        schema = self.schema.TARGET_COLUMN\n",
    "\n",
    "        create_directories([config.root_dir])\n",
    "\n",
    "        model_evaluation_config = ModelEvaluationConfig(\n",
    "            root_dir = config.root_dir,\n",
    "            test_data_path = config.test_data_path,\n",
    "            model_path = config.model_path,\n",
    "            all_params = params,\n",
    "            metric_file_name = config.metric_file_name,\n",
    "            target_column = schema.name,\n",
    "            mlflow_uri = \"https://dagshub.com/Sanjeev_Moparthi/WineQuality_prediction_dataScience_project.mlflow\"\n",
    "\n",
    "        )\n",
    "        return model_evaluation_config\n",
    "\n",
    "\n"
   ]
  },
  {
   "cell_type": "code",
   "execution_count": 8,
   "id": "8e0b7ee6",
   "metadata": {},
   "outputs": [],
   "source": [
    "import os \n",
    "import pandas as pd \n",
    "from sklearn.metrics import mean_squared_error,mean_absolute_error,r2_score\n",
    "from urllib.parse import urlparse\n",
    "import mlflow\n",
    "import mlflow.sklearn\n",
    "import numpy as np\n",
    "import joblib"
   ]
  },
  {
   "cell_type": "code",
   "execution_count": 13,
   "id": "3fe7c4e5",
   "metadata": {},
   "outputs": [],
   "source": [
    "# class ModelEvaluation:\n",
    "#     def __init__(self,config: ModelEvaluationConfig):\n",
    "#         self.config = config\n",
    "\n",
    "#     def eval_metrics(self,actual,pred):\n",
    "#         rmse = np.sqrt(mean_squared_error(actual,pred))\n",
    "#         mae = mean_absolute_error(actual,pred)\n",
    "#         r2 = r2_score(actual,pred)\n",
    "#         return rmse,mae,r2\n",
    "\n",
    "\n",
    "#     def log_into_mlflow(self):\n",
    "#         test_data = pd.read_csv(self.config.test_data_path)\n",
    "#         model = joblib.load(self.config.model_path)\n",
    "\n",
    "#         test_x = test_data.drop([self.config.target_column],axis = 1)\n",
    "#         test_y = test_data[[self.config.target_column]]\n",
    "\n",
    "#         mlflow.set_registry_uri(self.config.mlflow_uri)\n",
    "#         tracking_url_type_store = urlparse(mlflow.get_tracking_uri()).scheme\n",
    "\n",
    "#         with mlflow.start_run():\n",
    "#             predicted_qualities = model.predict(test_x)\n",
    "\n",
    "#             (rmse,mae,r2) = self.eval_metrics(test_y,predicted_qualities)\n",
    "\n",
    "#             # Saving metrics as local \n",
    "#             scores = {\"rmse\": rmse,\"mae\": mae,\"r2\": r2}\n",
    "#             save_json(path = Path(self.config.metric_file_name),data = scores)\n",
    "\n",
    "#             mlflow.log_params(self.config.all_params)\n",
    "\n",
    "#             mlflow.log_metric(\"rmse\",rmse)\n",
    "#             mlflow.log_metric(\"r2\", r2)\n",
    "#             mlflow.log_metric(\"mae\",mae)\n",
    "\n",
    "#             # Model registry does not work with file store \n",
    "#             if  tracking_url_type_store != \"file\":\n",
    "\n",
    "#                 # Register the model \n",
    "#                 # There are other ways to use the model registry,which depends upon on the use cases,\n",
    "#                 # pLEASE REFER TO THE DOC FOR MORE INFORMATION\n",
    "#                 mlflow.sklearn.log_model(model,\"model\") #registered_model_name = \"ElasticnetModel\"\n",
    "#             else:\n",
    "#                 mlflow.sklearn.log_model(model,\"model\")\n",
    "\n",
    "\n",
    "\n",
    "class ModelEvaluation:\n",
    "    def __init__(self, config: ModelEvaluationConfig):\n",
    "        self.config = config\n",
    "\n",
    "    def eval_metrics(self, actual, pred):\n",
    "        rmse = np.sqrt(mean_squared_error(actual, pred))\n",
    "        mae = mean_absolute_error(actual, pred)\n",
    "        r2 = r2_score(actual, pred)\n",
    "        return rmse, mae, r2\n",
    "\n",
    "    def log_into_mlflow(self):\n",
    "        test_data = pd.read_csv(self.config.test_data_path)\n",
    "        model = joblib.load(self.config.model_path)\n",
    "\n",
    "        test_x = test_data.drop([self.config.target_column], axis=1)\n",
    "        test_y = test_data[[self.config.target_column]]\n",
    "\n",
    "        mlflow.set_tracking_uri(self.config.mlflow_uri)\n",
    "        tracking_url_type_store = urlparse(mlflow.get_tracking_uri()).scheme\n",
    "        netloc = urlparse(mlflow.get_tracking_uri()).netloc\n",
    "\n",
    "        with mlflow.start_run():\n",
    "            predicted_qualities = model.predict(test_x)\n",
    "\n",
    "            rmse, mae, r2 = self.eval_metrics(test_y, predicted_qualities)\n",
    "\n",
    "            scores = {\"rmse\": rmse, \"mae\": mae, \"r2\": r2}\n",
    "            save_json(path=Path(self.config.metric_file_name), data=scores)\n",
    "\n",
    "            mlflow.log_params(self.config.all_params)\n",
    "            mlflow.log_metric(\"rmse\", rmse)\n",
    "            mlflow.log_metric(\"mae\", mae)\n",
    "            mlflow.log_metric(\"r2\", r2)\n",
    "\n",
    "            # 🛡️ Safe model logging: Only if not on DagsHub\n",
    "            if \"dagshub.com\" not in netloc and tracking_url_type_store != \"file\":\n",
    "                mlflow.sklearn.log_model(model, \"model\", registered_model_name=\"ElasticnetModel\")\n",
    "            elif tracking_url_type_store == \"file\":\n",
    "                mlflow.sklearn.log_model(model, \"model\")\n",
    "            else:\n",
    "                print(\"⚠️ Skipping model logging due to unsupported MLflow endpoint (e.g., DagsHub).\")\n",
    "\n",
    "\n"
   ]
  },
  {
   "cell_type": "code",
   "execution_count": 15,
   "id": "a2ae975e",
   "metadata": {},
   "outputs": [
    {
     "name": "stdout",
     "output_type": "stream",
     "text": [
      "[2025-07-20 15:28:00,307: INFO: common: YAML file loaded successfully: config\\config.yaml]\n",
      "[2025-07-20 15:28:00,311: INFO: common: YAML file loaded successfully: params.yaml]\n",
      "[2025-07-20 15:28:00,315: INFO: common: YAML file loaded successfully: schema.yaml]\n",
      "[2025-07-20 15:28:00,318: INFO: common: created directory at: artifacts]\n",
      "[2025-07-20 15:28:00,320: INFO: common: created directory at: artifacts/model_evaluation]\n",
      "[2025-07-20 15:28:00,800: INFO: common: json file saved at: artifacts\\model_evaluation\\metrics.json]\n",
      "⚠️ Skipping model logging due to unsupported MLflow endpoint (e.g., DagsHub).\n",
      "🏃 View run trusting-cub-989 at: https://dagshub.com/Sanjeev_Moparthi/WineQuality_prediction_dataScience_project.mlflow/#/experiments/0/runs/45859533593945028cbb9239455b9c9c\n",
      "🧪 View experiment at: https://dagshub.com/Sanjeev_Moparthi/WineQuality_prediction_dataScience_project.mlflow/#/experiments/0\n"
     ]
    }
   ],
   "source": [
    "try:\n",
    "    config = ConfigurationManager()\n",
    "    model_evaluation_config = config.get_model_evaluation_config()\n",
    "    model_evaluation_config = ModelEvaluation(config = model_evaluation_config)\n",
    "    model_evaluation_config.log_into_mlflow()\n",
    "except Exception as e:\n",
    "    raise e"
   ]
  },
  {
   "cell_type": "code",
   "execution_count": null,
   "id": "3333380a",
   "metadata": {},
   "outputs": [],
   "source": []
  }
 ],
 "metadata": {
  "kernelspec": {
   "display_name": "Python 3",
   "language": "python",
   "name": "python3"
  },
  "language_info": {
   "codemirror_mode": {
    "name": "ipython",
    "version": 3
   },
   "file_extension": ".py",
   "mimetype": "text/x-python",
   "name": "python",
   "nbconvert_exporter": "python",
   "pygments_lexer": "ipython3",
   "version": "3.10.0"
  }
 },
 "nbformat": 4,
 "nbformat_minor": 5
}
